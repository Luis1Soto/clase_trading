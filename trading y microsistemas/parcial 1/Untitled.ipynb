{
 "cells": [
  {
   "cell_type": "code",
   "execution_count": 14,
   "id": "7e8827ca",
   "metadata": {},
   "outputs": [],
   "source": [
    "import numpy as np\n",
    "import pandas as pd\n",
    "from scipy.optimize import minimize\n",
    "import yfinance as yf\n",
    "import seaborn as sns\n",
    "import matplotlib.pyplot as plt"
   ]
  },
  {
   "cell_type": "code",
   "execution_count": 3,
   "id": "b42a86b8",
   "metadata": {},
   "outputs": [
    {
     "name": "stdout",
     "output_type": "stream",
     "text": [
      "[*********************100%%**********************]  7 of 7 completed\n"
     ]
    }
   ],
   "source": [
    "stocks = [\"MSFT\", \"AMZN\", \"COST\", \"XOM\", \"PFE\", \"ACN\",\"LMT\"]\n",
    "\n",
    "end_date = pd.Timestamp.now().strftime('%Y-%m-%d')  \n",
    "start_date = (pd.Timestamp.now() - pd.DateOffset(years=1)).strftime('%Y-%m-%d')  \n",
    "prices = yf.download(stocks, start=start_date, end=end_date)['Adj Close']\n",
    "returns = prices.pct_change().dropna()\n",
    "\n",
    "\n",
    "mean_returns = returns.mean()\n",
    "cov_matrix = returns.cov()\n",
    "\n",
    "risk_free_rate = 0.113/252\n"
   ]
  },
  {
   "cell_type": "code",
   "execution_count": 4,
   "id": "6b8a74e5",
   "metadata": {},
   "outputs": [
    {
     "data": {
      "text/plain": [
       "(array([5.58004630e-02, 0.00000000e+00, 5.14832720e-01, 6.68192663e-02,\n",
       "        3.62547551e-01, 2.69546213e-15, 0.00000000e+00]),\n",
       " -2.7603195935796374)"
      ]
     },
     "execution_count": 4,
     "metadata": {},
     "output_type": "execute_result"
    }
   ],
   "source": [
    "\n",
    "\n",
    "def sharpe_ratio(weights):\n",
    "    portfolio_return = np.sum(mean_returns * weights) * 252\n",
    "    portfolio_std = np.sqrt(np.dot(weights.T, np.dot(cov_matrix, weights))) * np.sqrt(252)\n",
    "    return -(portfolio_return - risk_free_rate) / portfolio_std\n",
    "\n",
    "\n",
    "constraints = ({'type': 'eq', 'fun': lambda x: np.sum(x) - 1})\n",
    "bounds = tuple((0, 1) for asset in range(len(mean_returns)))\n",
    "\n",
    "initial_weights = np.array([1/len(mean_returns)]*len(mean_returns))\n",
    "optimized_result = minimize(sharpe_ratio, initial_weights, method='SLSQP', bounds=bounds, constraints=constraints)\n",
    "\n",
    "optimized_weights = optimized_result.x\n",
    "optimized_weights, optimized_result.fun\n"
   ]
  },
  {
   "cell_type": "code",
   "execution_count": 10,
   "id": "2e821395",
   "metadata": {},
   "outputs": [
    {
     "data": {
      "text/html": [
       "<div>\n",
       "<style scoped>\n",
       "    .dataframe tbody tr th:only-of-type {\n",
       "        vertical-align: middle;\n",
       "    }\n",
       "\n",
       "    .dataframe tbody tr th {\n",
       "        vertical-align: top;\n",
       "    }\n",
       "\n",
       "    .dataframe thead th {\n",
       "        text-align: right;\n",
       "    }\n",
       "</style>\n",
       "<table border=\"1\" class=\"dataframe\">\n",
       "  <thead>\n",
       "    <tr style=\"text-align: right;\">\n",
       "      <th></th>\n",
       "      <th>Weight</th>\n",
       "    </tr>\n",
       "  </thead>\n",
       "  <tbody>\n",
       "    <tr>\n",
       "      <th>MSFT</th>\n",
       "      <td>5.58</td>\n",
       "    </tr>\n",
       "    <tr>\n",
       "      <th>AMZN</th>\n",
       "      <td>0.00</td>\n",
       "    </tr>\n",
       "    <tr>\n",
       "      <th>COST</th>\n",
       "      <td>51.48</td>\n",
       "    </tr>\n",
       "    <tr>\n",
       "      <th>XOM</th>\n",
       "      <td>6.68</td>\n",
       "    </tr>\n",
       "    <tr>\n",
       "      <th>PFE</th>\n",
       "      <td>36.25</td>\n",
       "    </tr>\n",
       "    <tr>\n",
       "      <th>ACN</th>\n",
       "      <td>0.00</td>\n",
       "    </tr>\n",
       "    <tr>\n",
       "      <th>LMT</th>\n",
       "      <td>0.00</td>\n",
       "    </tr>\n",
       "  </tbody>\n",
       "</table>\n",
       "</div>"
      ],
      "text/plain": [
       "      Weight\n",
       "MSFT    5.58\n",
       "AMZN    0.00\n",
       "COST   51.48\n",
       "XOM     6.68\n",
       "PFE    36.25\n",
       "ACN     0.00\n",
       "LMT     0.00"
      ]
     },
     "execution_count": 10,
     "metadata": {},
     "output_type": "execute_result"
    }
   ],
   "source": [
    "optimized_weights_percentage = np.round(np.array(optimized_weights) * 100, 2)\n",
    "portfolio_weights_df = pd.DataFrame(data=optimized_weights_percentage, index=stocks, columns=['Weight'])\n",
    "portfolio_weights_df\n"
   ]
  },
  {
   "cell_type": "code",
   "execution_count": 16,
   "id": "a7da8195",
   "metadata": {},
   "outputs": [
    {
     "data": {
      "text/plain": [
       "([<matplotlib.patches.Wedge at 0x2bb321b57f0>,\n",
       "  <matplotlib.patches.Wedge at 0x2bb321b5cd0>,\n",
       "  <matplotlib.patches.Wedge at 0x2bb321c41f0>,\n",
       "  <matplotlib.patches.Wedge at 0x2bb321c46d0>,\n",
       "  <matplotlib.patches.Wedge at 0x2bb321c4bb0>,\n",
       "  <matplotlib.patches.Wedge at 0x2bb321cf0d0>,\n",
       "  <matplotlib.patches.Wedge at 0x2bb321cf5b0>],\n",
       " [Text(1.0831381566866456, 0.19186384112035212, ''),\n",
       "  Text(1.0330695754009898, 0.37784554037439566, ''),\n",
       "  Text(-0.42561719717405705, 1.0143224346674484, ''),\n",
       "  Text(-0.8731354500749386, -0.6690549198850826, ''),\n",
       "  Text(0.4604121031309258, -0.9990098574541485, ''),\n",
       "  Text(1.0999999999999852, 1.802315072267083e-07, ''),\n",
       "  Text(1.0999999999999852, 1.802315072267083e-07, '')])"
      ]
     },
     "execution_count": 16,
     "metadata": {},
     "output_type": "execute_result"
    },
    {
     "data": {
      "image/png": "[encoded data removed]",
      "text/plain": [
       "<Figure size 432x288 with 1 Axes>"
      ]
     },
     "metadata": {},
     "output_type": "display_data"
    }
   ],
   "source": [
    "plt.pie(portfolio_weights_df[\"Weight\"])"
   ]
  },
  {
   "cell_type": "code",
   "execution_count": null,
   "id": "dbbf3505",
   "metadata": {},
   "outputs": [],
   "source": []
  },
  {
   "cell_type": "code",
   "execution_count": null,
   "id": "6a8ff35a",
   "metadata": {},
   "outputs": [],
   "source": []
  },
  {
   "cell_type": "code",
   "execution_count": null,
   "id": "ed51f069",
   "metadata": {},
   "outputs": [],
   "source": []
  },
  {
   "cell_type": "code",
   "execution_count": null,
   "id": "ec887745",
   "metadata": {},
   "outputs": [],
   "source": []
  }
 ],
 "metadata": {
  "kernelspec": {
   "display_name": "Python 3 (ipykernel)",
   "language": "python",
   "name": "python3"
  },
  "language_info": {
   "codemirror_mode": {
    "name": "ipython",
    "version": 3
   },
   "file_extension": ".py",
   "mimetype": "text/x-python",
   "name": "python",
   "nbconvert_exporter": "python",
   "pygments_lexer": "ipython3",
   "version": "3.9.12"
  }
 },
 "nbformat": 4,
 "nbformat_minor": 5
}
